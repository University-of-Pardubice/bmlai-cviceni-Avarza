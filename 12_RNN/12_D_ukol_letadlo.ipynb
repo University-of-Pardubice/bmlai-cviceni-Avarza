{
 "cells": [
  {
   "cell_type": "markdown",
   "id": "86ccc053-d491-4143-99b8-623d153a08f9",
   "metadata": {},
   "source": [
    "# Úkol: Predikce počtu přepravených osob v letecké dopravě"
   ]
  },
  {
   "cell_type": "markdown",
   "id": "8257ece8-0e55-4cf5-b0d7-86084d98f251",
   "metadata": {},
   "source": [
    "# Data\n",
    "\n",
    "Soubor dat poskytuje přehled o počtu osob, které v daném měsíci cestovaly s americkými leteckými společnostmi. \n",
    "\n",
    "Obsahuje záznamy za 142 měsíců. Obsahuje 2 sloupce \"Month\" a \"Passengers\". \n",
    "\n",
    "Vašim úkol je vytvořit různé modely predikce počtu pasažerů\n",
    "- Jednoduchý RNN\n",
    "- LTSM\n",
    "- GRU\n",
    "\n",
    "U každého modelu porovnejte předvídané a skutečné hodnoty.\n",
    "\n",
    "Porovnejte modely a vyberte ten nejlepší.\n",
    "\n",
    "Exprerimentujte s délkou učební sekvence."
   ]
  },
  {
   "cell_type": "markdown",
   "id": "71bd751d-7860-4483-abb1-6cb1d10c9d8c",
   "metadata": {},
   "source": [
    "# 1. Načtení dat a zobrazení dat"
   ]
  },
  {
   "cell_type": "code",
   "execution_count": 1,
   "id": "cea21d72-4080-47d0-9b34-62c51b5ec3c3",
   "metadata": {
    "tags": []
   },
   "outputs": [],
   "source": [
    "import numpy as np\n",
    "import pandas as pd\n",
    "import matplotlib.pyplot as plt"
   ]
  },
  {
   "cell_type": "code",
   "execution_count": 2,
   "id": "ac67a7ed-67e9-4c8a-b14f-e470f9288636",
   "metadata": {
    "tags": []
   },
   "outputs": [],
   "source": [
    "dataset = pd.read_csv(\"..\\\\dataset\\\\airline-passengers.csv\", index_col=\"Month\", parse_dates=[\"Month\"])\n"
   ]
  },
  {
   "cell_type": "code",
   "execution_count": 3,
   "id": "61f74439-986e-4cc1-a97a-58f2a2851cba",
   "metadata": {
    "tags": []
   },
   "outputs": [
    {
     "data": {
      "text/html": [
       "<div>\n",
       "<style scoped>\n",
       "    .dataframe tbody tr th:only-of-type {\n",
       "        vertical-align: middle;\n",
       "    }\n",
       "\n",
       "    .dataframe tbody tr th {\n",
       "        vertical-align: top;\n",
       "    }\n",
       "\n",
       "    .dataframe thead th {\n",
       "        text-align: right;\n",
       "    }\n",
       "</style>\n",
       "<table border=\"1\" class=\"dataframe\">\n",
       "  <thead>\n",
       "    <tr style=\"text-align: right;\">\n",
       "      <th></th>\n",
       "      <th>Passengers</th>\n",
       "    </tr>\n",
       "    <tr>\n",
       "      <th>Month</th>\n",
       "      <th></th>\n",
       "    </tr>\n",
       "  </thead>\n",
       "  <tbody>\n",
       "    <tr>\n",
       "      <th>1949-01-01</th>\n",
       "      <td>112</td>\n",
       "    </tr>\n",
       "    <tr>\n",
       "      <th>1949-02-01</th>\n",
       "      <td>118</td>\n",
       "    </tr>\n",
       "    <tr>\n",
       "      <th>1949-03-01</th>\n",
       "      <td>132</td>\n",
       "    </tr>\n",
       "    <tr>\n",
       "      <th>1949-04-01</th>\n",
       "      <td>129</td>\n",
       "    </tr>\n",
       "    <tr>\n",
       "      <th>1949-05-01</th>\n",
       "      <td>121</td>\n",
       "    </tr>\n",
       "  </tbody>\n",
       "</table>\n",
       "</div>"
      ],
      "text/plain": [
       "            Passengers\n",
       "Month                 \n",
       "1949-01-01         112\n",
       "1949-02-01         118\n",
       "1949-03-01         132\n",
       "1949-04-01         129\n",
       "1949-05-01         121"
      ]
     },
     "execution_count": 3,
     "metadata": {},
     "output_type": "execute_result"
    }
   ],
   "source": [
    "dataset.head()"
   ]
  },
  {
   "cell_type": "code",
   "execution_count": 4,
   "id": "470ea748-81e5-4042-8819-95c961cf151b",
   "metadata": {
    "tags": []
   },
   "outputs": [
    {
     "data": {
      "text/html": [
       "<div>\n",
       "<style scoped>\n",
       "    .dataframe tbody tr th:only-of-type {\n",
       "        vertical-align: middle;\n",
       "    }\n",
       "\n",
       "    .dataframe tbody tr th {\n",
       "        vertical-align: top;\n",
       "    }\n",
       "\n",
       "    .dataframe thead th {\n",
       "        text-align: right;\n",
       "    }\n",
       "</style>\n",
       "<table border=\"1\" class=\"dataframe\">\n",
       "  <thead>\n",
       "    <tr style=\"text-align: right;\">\n",
       "      <th></th>\n",
       "      <th>Passengers</th>\n",
       "    </tr>\n",
       "  </thead>\n",
       "  <tbody>\n",
       "    <tr>\n",
       "      <th>count</th>\n",
       "      <td>144.000000</td>\n",
       "    </tr>\n",
       "    <tr>\n",
       "      <th>mean</th>\n",
       "      <td>280.298611</td>\n",
       "    </tr>\n",
       "    <tr>\n",
       "      <th>std</th>\n",
       "      <td>119.966317</td>\n",
       "    </tr>\n",
       "    <tr>\n",
       "      <th>min</th>\n",
       "      <td>104.000000</td>\n",
       "    </tr>\n",
       "    <tr>\n",
       "      <th>25%</th>\n",
       "      <td>180.000000</td>\n",
       "    </tr>\n",
       "    <tr>\n",
       "      <th>50%</th>\n",
       "      <td>265.500000</td>\n",
       "    </tr>\n",
       "    <tr>\n",
       "      <th>75%</th>\n",
       "      <td>360.500000</td>\n",
       "    </tr>\n",
       "    <tr>\n",
       "      <th>max</th>\n",
       "      <td>622.000000</td>\n",
       "    </tr>\n",
       "  </tbody>\n",
       "</table>\n",
       "</div>"
      ],
      "text/plain": [
       "       Passengers\n",
       "count  144.000000\n",
       "mean   280.298611\n",
       "std    119.966317\n",
       "min    104.000000\n",
       "25%    180.000000\n",
       "50%    265.500000\n",
       "75%    360.500000\n",
       "max    622.000000"
      ]
     },
     "execution_count": 4,
     "metadata": {},
     "output_type": "execute_result"
    }
   ],
   "source": [
    "dataset.describe()"
   ]
  },
  {
   "cell_type": "code",
   "execution_count": 6,
   "id": "ab6e4bb5-57ff-4e83-a165-a111f586ef71",
   "metadata": {
    "tags": []
   },
   "outputs": [
    {
     "data": {
      "image/png": "[encoded data removed]",
      "text/plain": [
       "<Figure size 1000x600 with 1 Axes>"
      ]
     },
     "metadata": {},
     "output_type": "display_data"
    }
   ],
   "source": [
    "dataset.isna().sum()\n",
    "\n",
    "# Zobrazení grafu\n",
    "plt.figure(figsize=(10,6))\n",
    "plt.plot(dataset)\n",
    "plt.title(\"Počet cestujících v letecké dopravě\")\n",
    "plt.xlabel(\"Měsíc\")\n",
    "plt.ylabel(\"Počet cestujících\")\n",
    "plt.show()"
   ]
  },
  {
   "cell_type": "code",
   "execution_count": 19,
   "id": "9f74a362-fb8d-4585-98c0-eedb9d8dfb93",
   "metadata": {
    "tags": []
   },
   "outputs": [],
   "source": [
    "# Rozdělení dat na 75% trénovacích a 25% testovacích\n",
    "train_size = int(len(dataset) * 0.75)\n",
    "test_size = len(dataset) - train_size"
   ]
  },
  {
   "cell_type": "code",
   "execution_count": 8,
   "id": "0bee4ea3-f443-4cc9-b292-ed623ee9cf41",
   "metadata": {
    "tags": []
   },
   "outputs": [],
   "source": [
    "train=dataset[:train_size]\n",
    "test=dataset[train_size:]"
   ]
  },
  {
   "cell_type": "code",
   "execution_count": 9,
   "id": "536e5d28-39b9-4124-a174-53d28ee31fa6",
   "metadata": {
    "tags": []
   },
   "outputs": [
    {
     "data": {
      "text/plain": [
       "Text(0.5, 1.0, 'Počet cestujících')"
      ]
     },
     "execution_count": 9,
     "metadata": {},
     "output_type": "execute_result"
    },
    {
     "data": {
      "image/png": "[encoded data removed]",
      "text/plain": [
       "<Figure size 640x480 with 1 Axes>"
      ]
     },
     "metadata": {},
     "output_type": "display_data"
    }
   ],
   "source": [
    "plt.plot(train)\n",
    "plt.plot(test)\n",
    "plt.legend([f\"Train\", \"Test\"])\n",
    "plt.title(\"Počet cestujících\")"
   ]
  },
  {
   "cell_type": "markdown",
   "id": "4cb1204a-8fd6-4008-b431-63ef8b7cb104",
   "metadata": {},
   "source": [
    "# 2. Příprava dat"
   ]
  },
  {
   "cell_type": "code",
   "execution_count": 10,
   "id": "734169ed-b483-4658-bb19-e06396e4e937",
   "metadata": {
    "tags": []
   },
   "outputs": [],
   "source": [
    "from sklearn.preprocessing import MinMaxScaler\n",
    "from sklearn.metrics import mean_squared_error"
   ]
  },
  {
   "cell_type": "markdown",
   "id": "a8c9af4a-92ee-45f5-9afb-2aca95f5841d",
   "metadata": {},
   "source": [
    "Data standardizujte pomocí MinMaxScaler"
   ]
  },
  {
   "cell_type": "markdown",
   "id": "8bd50df1-f864-402a-afc0-f299ce89dcfc",
   "metadata": {
    "tags": []
   },
   "source": [
    "Z data udělejte sekvence například o délce 10"
   ]
  },
  {
   "cell_type": "code",
   "execution_count": 11,
   "id": "dee14a23-cf67-4502-961d-eb70203fdb32",
   "metadata": {
    "tags": []
   },
   "outputs": [],
   "source": [
    "# Rozdělení na sekvence\n",
    "n_steps = 10\n",
    "features = 1"
   ]
  },
  {
   "cell_type": "markdown",
   "id": "11b42b13-f0ae-48fd-8e98-887a4d7a6bc2",
   "metadata": {},
   "source": [
    "# 3. Jednoduchá RNN"
   ]
  },
  {
   "cell_type": "code",
   "execution_count": 12,
   "id": "de04725f-fe75-4877-855d-1ee7a75316ce",
   "metadata": {
    "tags": []
   },
   "outputs": [],
   "source": [
    "import keras\n",
    "from keras.models import Sequential\n",
    "from keras.layers import SimpleRNN, Dense"
   ]
  },
  {
   "cell_type": "markdown",
   "id": "0ffe5811-31bb-4808-be5b-ff97daaf58cb",
   "metadata": {},
   "source": [
    "Vykreslete i průběh učení"
   ]
  },
  {
   "cell_type": "code",
   "execution_count": 13,
   "id": "7a460571",
   "metadata": {},
   "outputs": [
    {
     "ename": "NameError",
     "evalue": "name 'X_train' is not defined",
     "output_type": "error",
     "traceback": [
      "\u001b[1;31m---------------------------------------------------------------------------\u001b[0m",
      "\u001b[1;31mNameError\u001b[0m                                 Traceback (most recent call last)",
      "Cell \u001b[1;32mIn[13], line 3\u001b[0m\n\u001b[0;32m      1\u001b[0m \u001b[38;5;66;03m# Model RNN\u001b[39;00m\n\u001b[0;32m      2\u001b[0m model_rnn \u001b[38;5;241m=\u001b[39m Sequential()\n\u001b[1;32m----> 3\u001b[0m model_rnn\u001b[38;5;241m.\u001b[39madd(SimpleRNN(\u001b[38;5;241m50\u001b[39m, activation\u001b[38;5;241m=\u001b[39m\u001b[38;5;124m'\u001b[39m\u001b[38;5;124mrelu\u001b[39m\u001b[38;5;124m'\u001b[39m, input_shape\u001b[38;5;241m=\u001b[39m(\u001b[43mX_train\u001b[49m\u001b[38;5;241m.\u001b[39mshape[\u001b[38;5;241m1\u001b[39m], X_train\u001b[38;5;241m.\u001b[39mshape[\u001b[38;5;241m2\u001b[39m])))\n\u001b[0;32m      4\u001b[0m model_rnn\u001b[38;5;241m.\u001b[39madd(Dense(\u001b[38;5;241m1\u001b[39m))\n\u001b[0;32m      5\u001b[0m model_rnn\u001b[38;5;241m.\u001b[39mcompile(optimizer\u001b[38;5;241m=\u001b[39m\u001b[38;5;124m'\u001b[39m\u001b[38;5;124madam\u001b[39m\u001b[38;5;124m'\u001b[39m, loss\u001b[38;5;241m=\u001b[39m\u001b[38;5;124m'\u001b[39m\u001b[38;5;124mmean_squared_error\u001b[39m\u001b[38;5;124m'\u001b[39m)\n",
      "\u001b[1;31mNameError\u001b[0m: name 'X_train' is not defined"
     ]
    }
   ],
   "source": [
    "# Model RNN\n",
    "model_rnn = Sequential()\n",
    "model_rnn.add(SimpleRNN(50, activation='relu', input_shape=(X_train.shape[1], X_train.shape[2])))\n",
    "model_rnn.add(Dense(1))\n",
    "model_rnn.compile(optimizer='adam', loss='mean_squared_error')\n",
    "\n",
    "# Trénování modelu\n",
    "history_rnn = model_rnn.fit(X_train, y_train, epochs=20, batch_size=32, validation_data=(X_test, y_test))\n",
    "\n",
    "# Vizualizace průběhu učení\n",
    "plt.plot(history_rnn.history['loss'], label='Trénování')\n",
    "plt.plot(history_rnn.history['val_loss'], label='Test')\n",
    "plt.title('Průběh učení RNN')\n",
    "plt.xlabel('Epochy')\n",
    "plt.ylabel('Ztráta')\n",
    "plt.legend()\n",
    "plt.show()\n",
    "\n",
    "# Predikce a zobrazení výsledků\n",
    "predicted_rnn = model_rnn.predict(X_test)\n",
    "predicted_rnn = scaler.inverse_transform(predicted_rnn)\n",
    "\n",
    "# Skutečné hodnoty\n",
    "real_rnn = scaler.inverse_transform(y_test)\n",
    "\n",
    "# Výpočet RMSE\n",
    "from sklearn.metrics import mean_squared_error\n",
    "rmse_rnn = np.sqrt(mean_squared_error(real_rnn, predicted_rnn))\n",
    "print(f'RMSE pro model RNN: {rmse_rnn}')"
   ]
  },
  {
   "cell_type": "markdown",
   "id": "b0cd15d2-a0b3-41b3-9b75-a8398a7870c9",
   "metadata": {
    "tags": []
   },
   "source": [
    "## 3.1 Ověření modelu"
   ]
  },
  {
   "cell_type": "markdown",
   "id": "7c65ce1a-3358-4349-9aae-0abe7e6924a5",
   "metadata": {},
   "source": [
    "V grafu vykreslete skutečné a predikované hodnoty"
   ]
  },
  {
   "cell_type": "markdown",
   "id": "b91f684a-5b5f-4d5b-8338-5c34b7437db1",
   "metadata": {},
   "source": [
    "Vypočítejte RMSE mezi predikovanými a skutečnými hodnotami."
   ]
  },
  {
   "cell_type": "markdown",
   "id": "da589534-24b4-45e1-9cb5-20b4b5857693",
   "metadata": {},
   "source": [
    "# 4. Neuronová síť LTSM"
   ]
  },
  {
   "cell_type": "code",
   "execution_count": 14,
   "id": "6758009a-fcde-4985-a189-0a3d1037b3bc",
   "metadata": {
    "tags": []
   },
   "outputs": [],
   "source": [
    "from keras.layers import Dense, LSTM, Dropout\n",
    "from keras.optimizers import SGD"
   ]
  },
  {
   "cell_type": "markdown",
   "id": "1998efa7-8ba8-4438-9a52-83fb2bb2bac7",
   "metadata": {},
   "source": [
    "## 4.1 Ověření modelu LTSM"
   ]
  },
  {
   "cell_type": "code",
   "execution_count": 15,
   "id": "d7766a97",
   "metadata": {},
   "outputs": [
    {
     "ename": "NameError",
     "evalue": "name 'X_train' is not defined",
     "output_type": "error",
     "traceback": [
      "\u001b[1;31m---------------------------------------------------------------------------\u001b[0m",
      "\u001b[1;31mNameError\u001b[0m                                 Traceback (most recent call last)",
      "Cell \u001b[1;32mIn[15], line 3\u001b[0m\n\u001b[0;32m      1\u001b[0m \u001b[38;5;66;03m# Model LSTM\u001b[39;00m\n\u001b[0;32m      2\u001b[0m model_lstm \u001b[38;5;241m=\u001b[39m Sequential()\n\u001b[1;32m----> 3\u001b[0m model_lstm\u001b[38;5;241m.\u001b[39madd(LSTM(\u001b[38;5;241m50\u001b[39m, activation\u001b[38;5;241m=\u001b[39m\u001b[38;5;124m'\u001b[39m\u001b[38;5;124mrelu\u001b[39m\u001b[38;5;124m'\u001b[39m, input_shape\u001b[38;5;241m=\u001b[39m(\u001b[43mX_train\u001b[49m\u001b[38;5;241m.\u001b[39mshape[\u001b[38;5;241m1\u001b[39m], X_train\u001b[38;5;241m.\u001b[39mshape[\u001b[38;5;241m2\u001b[39m])))\n\u001b[0;32m      4\u001b[0m model_lstm\u001b[38;5;241m.\u001b[39madd(Dropout(\u001b[38;5;241m0.2\u001b[39m))\n\u001b[0;32m      5\u001b[0m model_lstm\u001b[38;5;241m.\u001b[39madd(Dense(\u001b[38;5;241m1\u001b[39m))\n",
      "\u001b[1;31mNameError\u001b[0m: name 'X_train' is not defined"
     ]
    }
   ],
   "source": [
    "# Model LSTM\n",
    "model_lstm = Sequential()\n",
    "model_lstm.add(LSTM(50, activation='relu', input_shape=(X_train.shape[1], X_train.shape[2])))\n",
    "model_lstm.add(Dropout(0.2))\n",
    "model_lstm.add(Dense(1))\n",
    "model_lstm.compile(optimizer='adam', loss='mean_squared_error')\n",
    "\n",
    "# Trénování modelu\n",
    "history_lstm = model_lstm.fit(X_train, y_train, epochs=20, batch_size=32, validation_data=(X_test, y_test))\n",
    "\n",
    "# Vizualizace průběhu učení\n",
    "plt.plot(history_lstm.history['loss'], label='Trénování')\n",
    "plt.plot(history_lstm.history['val_loss'], label='Test')\n",
    "plt.title('Průběh učení LSTM')\n",
    "plt.xlabel('Epochy')\n",
    "plt.ylabel('Ztráta')\n",
    "plt.legend()\n",
    "plt.show()\n",
    "\n",
    "# Predikce a zobrazení výsledků\n",
    "predicted_lstm = model_lstm.predict(X_test)\n",
    "predicted_lstm = scaler.inverse_transform(predicted_lstm)\n",
    "\n",
    "# Skutečné hodnoty\n",
    "real_lstm = scaler.inverse_transform(y_test)\n",
    "\n",
    "# Výpočet RMSE\n",
    "rmse_lstm = np.sqrt(mean_squared_error(real_lstm, predicted_lstm))\n",
    "print(f'RMSE pro model LSTM: {rmse_lstm}')"
   ]
  },
  {
   "cell_type": "markdown",
   "id": "57fa2983-4030-4b85-ac5a-e672f9b4c6a6",
   "metadata": {},
   "source": [
    "# 5. Model GRU"
   ]
  },
  {
   "cell_type": "code",
   "execution_count": 16,
   "id": "d647e1f9-0737-4e1d-8fc5-cfa85c5a2349",
   "metadata": {
    "tags": []
   },
   "outputs": [],
   "source": [
    "from keras.layers import GRU"
   ]
  },
  {
   "cell_type": "markdown",
   "id": "0654c325-becd-4eba-a096-cad0e2814bf9",
   "metadata": {},
   "source": [
    "## 5.1 Ověření modelu"
   ]
  },
  {
   "cell_type": "code",
   "execution_count": 17,
   "id": "af2f7d72",
   "metadata": {},
   "outputs": [
    {
     "ename": "NameError",
     "evalue": "name 'X_train' is not defined",
     "output_type": "error",
     "traceback": [
      "\u001b[1;31m---------------------------------------------------------------------------\u001b[0m",
      "\u001b[1;31mNameError\u001b[0m                                 Traceback (most recent call last)",
      "Cell \u001b[1;32mIn[17], line 3\u001b[0m\n\u001b[0;32m      1\u001b[0m \u001b[38;5;66;03m# Model GRU\u001b[39;00m\n\u001b[0;32m      2\u001b[0m model_gru \u001b[38;5;241m=\u001b[39m Sequential()\n\u001b[1;32m----> 3\u001b[0m model_gru\u001b[38;5;241m.\u001b[39madd(GRU(\u001b[38;5;241m50\u001b[39m, activation\u001b[38;5;241m=\u001b[39m\u001b[38;5;124m'\u001b[39m\u001b[38;5;124mrelu\u001b[39m\u001b[38;5;124m'\u001b[39m, input_shape\u001b[38;5;241m=\u001b[39m(\u001b[43mX_train\u001b[49m\u001b[38;5;241m.\u001b[39mshape[\u001b[38;5;241m1\u001b[39m], X_train\u001b[38;5;241m.\u001b[39mshape[\u001b[38;5;241m2\u001b[39m])))\n\u001b[0;32m      4\u001b[0m model_gru\u001b[38;5;241m.\u001b[39madd(Dense(\u001b[38;5;241m1\u001b[39m))\n\u001b[0;32m      5\u001b[0m model_gru\u001b[38;5;241m.\u001b[39mcompile(optimizer\u001b[38;5;241m=\u001b[39m\u001b[38;5;124m'\u001b[39m\u001b[38;5;124madam\u001b[39m\u001b[38;5;124m'\u001b[39m, loss\u001b[38;5;241m=\u001b[39m\u001b[38;5;124m'\u001b[39m\u001b[38;5;124mmean_squared_error\u001b[39m\u001b[38;5;124m'\u001b[39m)\n",
      "\u001b[1;31mNameError\u001b[0m: name 'X_train' is not defined"
     ]
    }
   ],
   "source": [
    "# Model GRU\n",
    "model_gru = Sequential()\n",
    "model_gru.add(GRU(50, activation='relu', input_shape=(X_train.shape[1], X_train.shape[2])))\n",
    "model_gru.add(Dense(1))\n",
    "model_gru.compile(optimizer='adam', loss='mean_squared_error')\n",
    "\n",
    "# Trénování modelu\n",
    "history_gru = model_gru.fit(X_train, y_train, epochs=20, batch_size=32, validation_data=(X_test, y_test))\n",
    "\n",
    "# Vizualizace průběhu učení\n",
    "plt.plot(history_gru.history['loss'], label='Trénování')\n",
    "plt.plot(history_gru.history['val_loss'], label='Test')\n",
    "plt.title('Průběh učení GRU')\n",
    "plt.xlabel('Epochy')\n",
    "plt.ylabel('Ztráta')\n",
    "plt.legend()\n",
    "plt.show()\n",
    "\n",
    "# Predikce a zobrazení výsledků\n",
    "predicted_gru = model_gru.predict(X_test)\n",
    "predicted_gru = scaler.inverse_transform(predicted_gru)\n",
    "\n",
    "# Skutečné hodnoty\n",
    "real_gru = scaler.inverse_transform(y_test)\n",
    "\n",
    "# Výpočet RMSE\n",
    "rmse_gru = np.sqrt(mean_squared_error(real_gru, predicted_gru))\n",
    "print(f'RMSE pro model GRU: {rmse_gru}')"
   ]
  }
 ],
 "metadata": {
  "kernelspec": {
   "display_name": "Python 3",
   "language": "python",
   "name": "python3"
  },
  "language_info": {
   "codemirror_mode": {
    "name": "ipython",
    "version": 3
   },
   "file_extension": ".py",
   "mimetype": "text/x-python",
   "name": "python",
   "nbconvert_exporter": "python",
   "pygments_lexer": "ipython3",
   "version": "3.9.10"
  }
 },
 "nbformat": 4,
 "nbformat_minor": 5
}
