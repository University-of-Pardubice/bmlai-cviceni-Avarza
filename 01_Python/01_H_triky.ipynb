{
 "cells": [
  {
   "cell_type": "markdown",
   "id": "f34f275b-91f8-4bd4-901b-aae8fe12435d",
   "metadata": {},
   "source": [
    "# Jazykové idiomy\n",
    "pythonic vs Unpythonic"
   ]
  },
  {
   "cell_type": "code",
   "execution_count": 1,
   "id": "159130aa-905d-4167-818e-3aa862dade7d",
   "metadata": {
    "tags": []
   },
   "outputs": [
    {
     "name": "stdout",
     "output_type": "stream",
     "text": [
      "The Zen of Python, by Tim Peters\n",
      "\n",
      "Beautiful is better than ugly.\n",
      "Explicit is better than implicit.\n",
      "Simple is better than complex.\n",
      "Complex is better than complicated.\n",
      "Flat is better than nested.\n",
      "Sparse is better than dense.\n",
      "Readability counts.\n",
      "Special cases aren't special enough to break the rules.\n",
      "Although practicality beats purity.\n",
      "Errors should never pass silently.\n",
      "Unless explicitly silenced.\n",
      "In the face of ambiguity, refuse the temptation to guess.\n",
      "There should be one-- and preferably only one --obvious way to do it.\n",
      "Although that way may not be obvious at first unless you're Dutch.\n",
      "Now is better than never.\n",
      "Although never is often better than *right* now.\n",
      "If the implementation is hard to explain, it's a bad idea.\n",
      "If the implementation is easy to explain, it may be a good idea.\n",
      "Namespaces are one honking great idea -- let's do more of those!\n"
     ]
    }
   ],
   "source": [
    "# Vypíše idea pythonu\n",
    "import this"
   ]
  },
  {
   "cell_type": "code",
   "execution_count": 2,
   "id": "8fa77e46-e8ee-4a94-b439-326ee4d77152",
   "metadata": {},
   "outputs": [
    {
     "name": "stdout",
     "output_type": "stream",
     "text": [
      "1\n",
      "2\n",
      "3\n",
      "1\n",
      "2\n",
      "3\n"
     ]
    }
   ],
   "source": [
    "# Procházení seznamu\n",
    "# ugly\n",
    "i = 0\n",
    "items=(1, 2, 3)\n",
    "while i < len(items):\n",
    "    print (items[i])\n",
    "    i +=1\n",
    "    \n",
    "# Beautiful \n",
    "for item in items:\n",
    "    print (item)"
   ]
  },
  {
   "cell_type": "markdown",
   "id": "905992c7-8c16-4c7a-b901-40162413ba81",
   "metadata": {},
   "source": [
    "# Anonymní, lambda funkce"
   ]
  },
  {
   "cell_type": "code",
   "execution_count": 3,
   "id": "e9441334-e2d5-488e-b26d-1492af95a6a2",
   "metadata": {},
   "outputs": [
    {
     "ename": "NameError",
     "evalue": "name 'people' is not defined",
     "output_type": "error",
     "traceback": [
      "\u001b[1;31m---------------------------------------------------------------------------\u001b[0m",
      "\u001b[1;31mNameError\u001b[0m                                 Traceback (most recent call last)",
      "Cell \u001b[1;32mIn[3], line 1\u001b[0m\n\u001b[1;32m----> 1\u001b[0m \u001b[43mpeople\u001b[49m\u001b[38;5;241m.\u001b[39msort (key\u001b[38;5;241m=\u001b[39m\u001b[38;5;28;01mlambda\u001b[39;00m person: person\u001b[38;5;241m.\u001b[39mname)\n",
      "\u001b[1;31mNameError\u001b[0m: name 'people' is not defined"
     ]
    }
   ],
   "source": [
    "people.sort (key=lambda person: person.name)"
   ]
  },
  {
   "cell_type": "markdown",
   "id": "2c7ab901-1e21-4e56-80b4-e2cb6e48058a",
   "metadata": {},
   "source": [
    "# list/set/dict comprehension\n",
    "* lze  provést matematickou operaci nad listem\n",
    "* pro každé x ze seznamu, pokud je x dělitelné 2, vypočítej jeho druhou mocninu"
   ]
  },
  {
   "cell_type": "code",
   "execution_count": 4,
   "id": "17273cfd-e85e-48fd-b769-d9a27794a275",
   "metadata": {
    "tags": []
   },
   "outputs": [
    {
     "data": {
      "text/plain": [
       "[4, 16]"
      ]
     },
     "execution_count": 4,
     "metadata": {},
     "output_type": "execute_result"
    }
   ],
   "source": [
    "list = [1, 2, 3, 4, 5]\n",
    "square = [x ** 2 for x in list if x % 2 == 0]\n",
    "square"
   ]
  },
  {
   "cell_type": "markdown",
   "id": "2de19760-e940-484b-a178-62fb0e7829d6",
   "metadata": {},
   "source": [
    "# Ternální operátor"
   ]
  },
  {
   "cell_type": "code",
   "execution_count": 5,
   "id": "e53cb4f3-6364-4e18-9175-f8d468d192e1",
   "metadata": {
    "tags": []
   },
   "outputs": [
    {
     "data": {
      "text/plain": [
       "'levné'"
      ]
     },
     "execution_count": 5,
     "metadata": {},
     "output_type": "execute_result"
    }
   ],
   "source": [
    "price = 50\n",
    "cost = 'levné' if price <= 100 else 'drahe'\n",
    "cost"
   ]
  },
  {
   "cell_type": "markdown",
   "id": "7d98c7ba-a6da-4863-93bd-c3c68c656573",
   "metadata": {},
   "source": [
    "# Chain comparision"
   ]
  },
  {
   "cell_type": "code",
   "execution_count": 6,
   "id": "e5770f5d-6031-4e9a-a6e2-d5f5fed72ee0",
   "metadata": {
    "tags": []
   },
   "outputs": [
    {
     "name": "stdout",
     "output_type": "stream",
     "text": [
      "x je mezi 1 a 5\n"
     ]
    }
   ],
   "source": [
    "x=4\n",
    "if 1 < x < 5:\n",
    "    print (\"x je mezi 1 a 5\")"
   ]
  },
  {
   "cell_type": "markdown",
   "id": "2810b79b-a04c-4498-a956-58bdafde1300",
   "metadata": {},
   "source": [
    "# Čtení bloků ze souboru\n",
    ":= cyklus přes fixní délku bloku přiřazování vrácí výraz"
   ]
  },
  {
   "cell_type": "code",
   "execution_count": 7,
   "id": "11301412-e2b0-4cf2-9bd1-db498cc131a2",
   "metadata": {},
   "outputs": [
    {
     "ename": "NameError",
     "evalue": "name 'f' is not defined",
     "output_type": "error",
     "traceback": [
      "\u001b[1;31m---------------------------------------------------------------------------\u001b[0m",
      "\u001b[1;31mNameError\u001b[0m                                 Traceback (most recent call last)",
      "Cell \u001b[1;32mIn[7], line 1\u001b[0m\n\u001b[1;32m----> 1\u001b[0m \u001b[38;5;28;01mwhile\u001b[39;00m block \u001b[38;5;241m:=\u001b[39m \u001b[43mf\u001b[49m\u001b[38;5;241m.\u001b[39mread(\u001b[38;5;241m256\u001b[39m) \u001b[38;5;241m!=\u001b[39m \u001b[38;5;124m'\u001b[39m\u001b[38;5;124m'\u001b[39m:\n\u001b[0;32m      2\u001b[0m        process(block)\n",
      "\u001b[1;31mNameError\u001b[0m: name 'f' is not defined"
     ]
    }
   ],
   "source": [
    "while block := f.read(256) != '':\n",
    "       process(block)"
   ]
  },
  {
   "cell_type": "markdown",
   "id": "a6d16771-27f9-4b67-b755-270ad5920af9",
   "metadata": {},
   "source": [
    "# Výkon"
   ]
  },
  {
   "cell_type": "markdown",
   "id": "20fffa0c-2f6a-402f-8b0d-82453abdd37f",
   "metadata": {},
   "source": [
    "## Cache výsledků funkcí\n"
   ]
  },
  {
   "cell_type": "code",
   "execution_count": 8,
   "id": "3ba59512-b4ee-4259-ac23-35719cf5ecf7",
   "metadata": {
    "tags": []
   },
   "outputs": [],
   "source": [
    "def fib(n: int) -> int:\n",
    "    if n <= 1:\n",
    "        return n\n",
    "    else:\n",
    "        return fib (n - 1) + fib (n - 2)"
   ]
  },
  {
   "cell_type": "code",
   "execution_count": 9,
   "id": "a6bbd407-2f96-49b7-ae31-a59f92c9b423",
   "metadata": {
    "tags": []
   },
   "outputs": [
    {
     "name": "stdout",
     "output_type": "stream",
     "text": [
      "0: 0\n",
      "1: 1\n",
      "2: 1\n",
      "3: 2\n",
      "4: 3\n",
      "5: 5\n",
      "6: 8\n",
      "7: 13\n",
      "8: 21\n",
      "9: 34\n",
      "10: 55\n",
      "11: 89\n",
      "12: 144\n",
      "13: 233\n",
      "14: 377\n",
      "15: 610\n",
      "16: 987\n",
      "17: 1597\n",
      "18: 2584\n",
      "19: 4181\n",
      "20: 6765\n",
      "21: 10946\n",
      "22: 17711\n",
      "23: 28657\n",
      "24: 46368\n",
      "25: 75025\n",
      "26: 121393\n",
      "27: 196418\n",
      "28: 317811\n",
      "29: 514229\n",
      "30: 832040\n",
      "31: 1346269\n",
      "32: 2178309\n",
      "33: 3524578\n",
      "34: 5702887\n"
     ]
    },
    {
     "ename": "KeyboardInterrupt",
     "evalue": "",
     "output_type": "error",
     "traceback": [
      "\u001b[1;31m---------------------------------------------------------------------------\u001b[0m",
      "\u001b[1;31mKeyboardInterrupt\u001b[0m                         Traceback (most recent call last)",
      "Cell \u001b[1;32mIn[9], line 2\u001b[0m\n\u001b[0;32m      1\u001b[0m \u001b[38;5;28;01mfor\u001b[39;00m i \u001b[38;5;129;01min\u001b[39;00m \u001b[38;5;28mrange\u001b[39m (\u001b[38;5;241m0\u001b[39m, \u001b[38;5;241m40\u001b[39m):\n\u001b[1;32m----> 2\u001b[0m     \u001b[38;5;28mprint\u001b[39m (\u001b[38;5;124mf\u001b[39m\u001b[38;5;124m'\u001b[39m\u001b[38;5;132;01m{\u001b[39;00mi\u001b[38;5;132;01m}\u001b[39;00m\u001b[38;5;124m: \u001b[39m\u001b[38;5;132;01m{\u001b[39;00mfib(i)\u001b[38;5;132;01m}\u001b[39;00m\u001b[38;5;124m'\u001b[39m)\n",
      "Cell \u001b[1;32mIn[8], line 5\u001b[0m, in \u001b[0;36mfib\u001b[1;34m(n)\u001b[0m\n\u001b[0;32m      3\u001b[0m     \u001b[38;5;28;01mreturn\u001b[39;00m n\n\u001b[0;32m      4\u001b[0m \u001b[38;5;28;01melse\u001b[39;00m:\n\u001b[1;32m----> 5\u001b[0m     \u001b[38;5;28;01mreturn\u001b[39;00m \u001b[43mfib\u001b[49m\u001b[43m \u001b[49m\u001b[43m(\u001b[49m\u001b[43mn\u001b[49m\u001b[43m \u001b[49m\u001b[38;5;241;43m-\u001b[39;49m\u001b[43m \u001b[49m\u001b[38;5;241;43m1\u001b[39;49m\u001b[43m)\u001b[49m \u001b[38;5;241m+\u001b[39m fib (n \u001b[38;5;241m-\u001b[39m \u001b[38;5;241m2\u001b[39m)\n",
      "Cell \u001b[1;32mIn[8], line 5\u001b[0m, in \u001b[0;36mfib\u001b[1;34m(n)\u001b[0m\n\u001b[0;32m      3\u001b[0m     \u001b[38;5;28;01mreturn\u001b[39;00m n\n\u001b[0;32m      4\u001b[0m \u001b[38;5;28;01melse\u001b[39;00m:\n\u001b[1;32m----> 5\u001b[0m     \u001b[38;5;28;01mreturn\u001b[39;00m fib (n \u001b[38;5;241m-\u001b[39m \u001b[38;5;241m1\u001b[39m) \u001b[38;5;241m+\u001b[39m \u001b[43mfib\u001b[49m\u001b[43m \u001b[49m\u001b[43m(\u001b[49m\u001b[43mn\u001b[49m\u001b[43m \u001b[49m\u001b[38;5;241;43m-\u001b[39;49m\u001b[43m \u001b[49m\u001b[38;5;241;43m2\u001b[39;49m\u001b[43m)\u001b[49m\n",
      "    \u001b[1;31m[... skipping similar frames: fib at line 5 (19 times)]\u001b[0m\n",
      "Cell \u001b[1;32mIn[8], line 5\u001b[0m, in \u001b[0;36mfib\u001b[1;34m(n)\u001b[0m\n\u001b[0;32m      3\u001b[0m     \u001b[38;5;28;01mreturn\u001b[39;00m n\n\u001b[0;32m      4\u001b[0m \u001b[38;5;28;01melse\u001b[39;00m:\n\u001b[1;32m----> 5\u001b[0m     \u001b[38;5;28;01mreturn\u001b[39;00m \u001b[43mfib\u001b[49m\u001b[43m \u001b[49m\u001b[43m(\u001b[49m\u001b[43mn\u001b[49m\u001b[43m \u001b[49m\u001b[38;5;241;43m-\u001b[39;49m\u001b[43m \u001b[49m\u001b[38;5;241;43m1\u001b[39;49m\u001b[43m)\u001b[49m\u001b[43m \u001b[49m\u001b[38;5;241;43m+\u001b[39;49m\u001b[43m \u001b[49m\u001b[43mfib\u001b[49m\u001b[43m \u001b[49m\u001b[43m(\u001b[49m\u001b[43mn\u001b[49m\u001b[43m \u001b[49m\u001b[38;5;241;43m-\u001b[39;49m\u001b[43m \u001b[49m\u001b[38;5;241;43m2\u001b[39;49m\u001b[43m)\u001b[49m\n",
      "\u001b[1;31mKeyboardInterrupt\u001b[0m: "
     ]
    }
   ],
   "source": [
    "for i in range (0, 40):\n",
    "    print (f'{i}: {fib(i)}')"
   ]
  },
  {
   "cell_type": "code",
   "execution_count": 10,
   "id": "3335fd7f-a273-4a61-8ba0-5858d896b882",
   "metadata": {
    "tags": []
   },
   "outputs": [],
   "source": [
    "from functools import lru_cache\n",
    "@lru_cache\n",
    "def fib(n: int) -> int:\n",
    "    if n <= 1:\n",
    "        return n\n",
    "    else:\n",
    "        return fib (n - 1) + fib (n - 2)"
   ]
  },
  {
   "cell_type": "code",
   "execution_count": 11,
   "id": "ab5f3fe6-a253-45a2-883b-e07d3294a086",
   "metadata": {
    "tags": []
   },
   "outputs": [
    {
     "name": "stdout",
     "output_type": "stream",
     "text": [
      "0: 0\n",
      "1: 1\n",
      "2: 1\n",
      "3: 2\n",
      "4: 3\n",
      "5: 5\n",
      "6: 8\n",
      "7: 13\n",
      "8: 21\n",
      "9: 34\n",
      "10: 55\n",
      "11: 89\n",
      "12: 144\n",
      "13: 233\n",
      "14: 377\n",
      "15: 610\n",
      "16: 987\n",
      "17: 1597\n",
      "18: 2584\n",
      "19: 4181\n",
      "20: 6765\n",
      "21: 10946\n",
      "22: 17711\n",
      "23: 28657\n",
      "24: 46368\n",
      "25: 75025\n",
      "26: 121393\n",
      "27: 196418\n",
      "28: 317811\n",
      "29: 514229\n",
      "30: 832040\n",
      "31: 1346269\n",
      "32: 2178309\n",
      "33: 3524578\n",
      "34: 5702887\n",
      "35: 9227465\n",
      "36: 14930352\n",
      "37: 24157817\n",
      "38: 39088169\n",
      "39: 63245986\n"
     ]
    }
   ],
   "source": [
    "for i in range (0, 40):\n",
    "    print (f'{i}: {fib(i)}')"
   ]
  },
  {
   "cell_type": "markdown",
   "id": "4462cb3d-0056-44c2-8261-47f13a3128e5",
   "metadata": {},
   "source": [
    "# Funkce help()\n",
    "Vypisuje syntaxy python příkazu."
   ]
  },
  {
   "cell_type": "code",
   "execution_count": null,
   "id": "87cf8e54",
   "metadata": {},
   "outputs": [],
   "source": [
    "help(print)"
   ]
  },
  {
   "cell_type": "code",
   "execution_count": null,
   "id": "2233e1eb",
   "metadata": {},
   "outputs": [],
   "source": [
    "def my_func(a : int, b:int )-> int:\n",
    "    \"\"\" Addings two numbers\n",
    "    a: int\n",
    "    b: int\n",
    "    \n",
    "    return int\n",
    "    \"\"\"\n",
    "    return (a+b)"
   ]
  },
  {
   "cell_type": "code",
   "execution_count": null,
   "id": "8a60580d",
   "metadata": {},
   "outputs": [],
   "source": [
    "my_func(1, 3)"
   ]
  },
  {
   "cell_type": "code",
   "execution_count": null,
   "id": "1f9e6e65",
   "metadata": {},
   "outputs": [],
   "source": [
    "help(my_func)"
   ]
  }
 ],
 "metadata": {
  "kernelspec": {
   "display_name": "Python 3",
   "language": "python",
   "name": "python3"
  },
  "language_info": {
   "codemirror_mode": {
    "name": "ipython",
    "version": 3
   },
   "file_extension": ".py",
   "mimetype": "text/x-python",
   "name": "python",
   "nbconvert_exporter": "python",
   "pygments_lexer": "ipython3",
   "version": "3.9.0"
  }
 },
 "nbformat": 4,
 "nbformat_minor": 5
}
