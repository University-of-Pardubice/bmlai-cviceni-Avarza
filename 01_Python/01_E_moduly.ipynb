{
 "cells": [
  {
   "cell_type": "markdown",
   "id": "48b60bad-9889-43a9-be52-974cbfc5b147",
   "metadata": {},
   "source": [
    "# Module, package, library"
   ]
  },
  {
   "cell_type": "markdown",
   "id": "46a0d7a5-cb81-47f9-9032-b96ea9222e88",
   "metadata": {},
   "source": [
    "## Module\n",
    "Samostatný py soubor, který může obsahovat funkce, třídy, ..."
   ]
  },
  {
   "cell_type": "code",
   "execution_count": 1,
   "id": "4904b999-3903-44cf-a669-c6a35e554997",
   "metadata": {
    "tags": []
   },
   "outputs": [
    {
     "ename": "ModuleNotFoundError",
     "evalue": "No module named 'module'",
     "output_type": "error",
     "traceback": [
      "\u001b[1;31m---------------------------------------------------------------------------\u001b[0m",
      "\u001b[1;31mModuleNotFoundError\u001b[0m                       Traceback (most recent call last)",
      "Cell \u001b[1;32mIn[1], line 1\u001b[0m\n\u001b[1;32m----> 1\u001b[0m \u001b[38;5;28;01mimport\u001b[39;00m\u001b[38;5;250m \u001b[39m\u001b[38;5;21;01mmodule\u001b[39;00m\n",
      "\u001b[1;31mModuleNotFoundError\u001b[0m: No module named 'module'"
     ]
    }
   ],
   "source": [
    "import module"
   ]
  },
  {
   "cell_type": "markdown",
   "id": "626d42aa-4858-49b1-8c15-2a6b87e225f2",
   "metadata": {},
   "source": [
    "## Package\n",
    "* Složka, která obsahuje více modulů, balíčků apod.\n",
    "* Adresářová struktura na disku je struktura modulu\n",
    "* \\_\\_init\\_\\_.py - inicializační modul\n",
    "* Lze mít v modulech stejné názvy tříd, pak je třeba správně importovat nebo správně kvalifikovat"
   ]
  },
  {
   "cell_type": "markdown",
   "id": "98f0eac7",
   "metadata": {},
   "source": [
    "Pokud modul chybí, lze často nainstalovat pomocí pip\n",
    "\n",
    "**pip install network collection numpy**"
   ]
  },
  {
   "cell_type": "markdown",
   "id": "742acf3f-1cc7-4b4a-ad87-760e1c0364a7",
   "metadata": {},
   "source": [
    "network\n",
    "    __init__.py\n",
    "    socket.py\n",
    "    http\n",
    "        __init__.py\n",
    "        request.py\n",
    "        response.py"
   ]
  },
  {
   "cell_type": "code",
   "execution_count": 9,
   "id": "9b24ddc2-e12e-4816-899f-e32a248f81fd",
   "metadata": {},
   "outputs": [
    {
     "ename": "ModuleNotFoundError",
     "evalue": "No module named 'network'",
     "output_type": "error",
     "traceback": [
      "\u001b[31m---------------------------------------------------------------------------\u001b[39m",
      "\u001b[31mModuleNotFoundError\u001b[39m                       Traceback (most recent call last)",
      "\u001b[36mCell\u001b[39m\u001b[36m \u001b[39m\u001b[32mIn[9]\u001b[39m\u001b[32m, line 2\u001b[39m\n\u001b[32m      1\u001b[39m \u001b[38;5;66;03m# Příklad, jak importovat pro výše uvedenou strukturu\u001b[39;00m\n\u001b[32m----> \u001b[39m\u001b[32m2\u001b[39m \u001b[38;5;28;01mfrom\u001b[39;00m\u001b[38;5;250m \u001b[39m\u001b[34;01mnetwork\u001b[39;00m\u001b[34;01m.\u001b[39;00m\u001b[34;01mhttp\u001b[39;00m\u001b[34;01m.\u001b[39;00m\u001b[34;01mrequest\u001b[39;00m\u001b[38;5;250m \u001b[39m\u001b[38;5;28;01mimport\u001b[39;00m Request\n",
      "\u001b[31mModuleNotFoundError\u001b[39m: No module named 'network'"
     ]
    }
   ],
   "source": [
    "# Příklad, jak importovat pro výše uvedenou strukturu\n",
    "from network.http.request import Request"
   ]
  },
  {
   "cell_type": "code",
   "execution_count": 2,
   "id": "602f5070-bead-4ecc-b9e8-f25bf141857f",
   "metadata": {},
   "outputs": [],
   "source": [
    "import time\n",
    "import os, re, sys\n",
    "import multiprocessing as mp\n",
    "from collections import namedtuple, defaultdict\n",
    "from email import *     # dobré jen pro experimenty, po letech se modul může změnit a naimportuje se něco jiného"
   ]
  },
  {
   "cell_type": "markdown",
   "id": "57b55793-c6fe-4eb8-bc2e-07b5de1079a5",
   "metadata": {},
   "source": [
    "## Library\n",
    "Kolekce modulů a package, které zajišťují nějakou funkcionalitu"
   ]
  },
  {
   "cell_type": "code",
   "execution_count": 3,
   "id": "ed0e0dff-850e-4ade-a3af-6fce85389b1f",
   "metadata": {},
   "outputs": [],
   "source": [
    "import numpy as np"
   ]
  }
 ],
 "metadata": {
  "kernelspec": {
   "display_name": "Python 3",
   "language": "python",
   "name": "python3"
  },
  "language_info": {
   "codemirror_mode": {
    "name": "ipython",
    "version": 3
   },
   "file_extension": ".py",
   "mimetype": "text/x-python",
   "name": "python",
   "nbconvert_exporter": "python",
   "pygments_lexer": "ipython3",
   "version": "3.9.0"
  }
 },
 "nbformat": 4,
 "nbformat_minor": 5
}
