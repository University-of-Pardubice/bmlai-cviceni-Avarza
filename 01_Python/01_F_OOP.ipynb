{
 "cells": [
  {
   "cell_type": "markdown",
   "id": "7395f303-c127-4ab8-9621-60b8e2da603a",
   "metadata": {},
   "source": [
    "# OOP\n",
    "* python třídně orientovaný\n",
    "* Dědí se přes třídy\n",
    "* self, ekvivalent this, u metod se explicitně uvádět\n",
    "* Vše je veřejné. Neexistuje protected, private\n",
    "* Všechny metody mohou být přepsány pomocí overriden\n",
    "* Automaticky se dědí ze třídy **object**\n",
    "* Je podporována vícenásobná dědičnost"
   ]
  },
  {
   "cell_type": "code",
   "execution_count": 1,
   "id": "d77d4fbd-42f4-4670-978c-6c3816c9a64f",
   "metadata": {
    "tags": []
   },
   "outputs": [],
   "source": [
    "from math import sqrt\n",
    "class Point:\n",
    "    \"\"\" Bod ve 2d \"\"\"\n",
    "    \n",
    "    def __init__(self, x, y):\n",
    "        # konstruktor\n",
    "        self.x = x\n",
    "        self.y = y\n",
    "        self._z = 3      # interní atribut, ale je to jen konvence, jde se tam lehce dostat\n",
    "        self.__w = 4     # privátní atribut, nepoužívat ani v potomcích, lze se tam dostat složitěji přes __dict__\n",
    "        \n",
    "    def distance (self, other):\n",
    "        # metoda\n",
    "        return sqrt((other.x - self.x) **2 + (other.y - self.y)**2)"
   ]
  },
  {
   "cell_type": "code",
   "execution_count": 2,
   "id": "facd33ee-7959-42f0-8e4c-a007231a06ef",
   "metadata": {
    "tags": []
   },
   "outputs": [
    {
     "name": "stdout",
     "output_type": "stream",
     "text": [
      "4.242640687119285\n"
     ]
    }
   ],
   "source": [
    "# Vytvoření instance\n",
    "a = Point (1, 2)\n",
    "b = Point (4, 5)\n",
    "print (a.distance(b))   # a se dosadí za self automaticky"
   ]
  },
  {
   "cell_type": "markdown",
   "id": "859e9f42-0491-450a-a232-6a3577b5dec4",
   "metadata": {},
   "source": [
    "# Dědění"
   ]
  },
  {
   "cell_type": "code",
   "execution_count": 3,
   "id": "a6f5ae1c-f15f-465d-89bd-5bf0794ff9cf",
   "metadata": {
    "tags": []
   },
   "outputs": [],
   "source": [
    "class A:\n",
    "    def foo(self):\n",
    "        print (\"A.foo()\")\n",
    "        \n",
    "class B(A):\n",
    "    def foo(self):\n",
    "        A.foo(self)          # zavolání metody z nadřazené třídy. Případně jde použít super.foo(self)\n",
    "        print (\"B.foo()\")\n",
    "\n",
    "class C(A):\n",
    "    def foo(self):\n",
    "        print (\"C.foo()\")\n",
    "        \n",
    "class D(B, C):\n",
    "    def bar(self):\n",
    "        print (\"D.bar()\")        "
   ]
  },
  {
   "cell_type": "code",
   "execution_count": 4,
   "id": "79ea6ace-e45d-4626-adb3-6a4fe227b4e5",
   "metadata": {
    "tags": []
   },
   "outputs": [
    {
     "name": "stdout",
     "output_type": "stream",
     "text": [
      "A.foo()\n",
      "B.foo()\n"
     ]
    }
   ],
   "source": [
    "b=B()\n",
    "b.foo()"
   ]
  },
  {
   "cell_type": "code",
   "execution_count": 5,
   "id": "68ae60bc-16fa-40c4-b3ee-af3cb98b37ea",
   "metadata": {
    "tags": []
   },
   "outputs": [
    {
     "data": {
      "text/plain": [
       "(__main__.B, __main__.C)"
      ]
     },
     "execution_count": 5,
     "metadata": {},
     "output_type": "execute_result"
    }
   ],
   "source": [
    "# výpis dědění\n",
    "D.__bases__"
   ]
  },
  {
   "cell_type": "code",
   "execution_count": 6,
   "id": "331aa6a4-cda7-44d5-8c90-cd2d7ee16903",
   "metadata": {
    "tags": []
   },
   "outputs": [
    {
     "name": "stdout",
     "output_type": "stream",
     "text": [
      "A.foo()\n",
      "B.foo()\n",
      "None\n",
      "(<class '__main__.D'>, <class '__main__.B'>, <class '__main__.C'>, <class '__main__.A'>, <class 'object'>)\n"
     ]
    }
   ],
   "source": [
    "# MRO - method resolution order - linearizovaný seznam dědičné hierarchie tříd. (C3 linearizace)\n",
    "# Zavolá se metoda, ze třídy, která se první najde\n",
    "d=D()\n",
    "print (d.foo())\n",
    "print (D.__mro__)"
   ]
  },
  {
   "cell_type": "markdown",
   "id": "4d202e26-6b11-4d4e-be2e-405a3fbcb08d",
   "metadata": {},
   "source": [
    "# Instanční a třídové proměnné"
   ]
  },
  {
   "cell_type": "code",
   "execution_count": 7,
   "id": "c978b1c4-4005-4b0a-80f8-e0d6d3823a5d",
   "metadata": {
    "tags": []
   },
   "outputs": [],
   "source": [
    "class E:\n",
    "    x = 1      # třídní proměnné\n",
    "    def __init__(self, y):\n",
    "        self.y=y"
   ]
  },
  {
   "cell_type": "code",
   "execution_count": 8,
   "id": "31fad2c5-c228-4f37-8ab8-075699b0e65d",
   "metadata": {
    "tags": []
   },
   "outputs": [
    {
     "name": "stdout",
     "output_type": "stream",
     "text": [
      "1 1 5\n",
      "1 1 5\n"
     ]
    }
   ],
   "source": [
    "e1 = E(5)\n",
    "e2 = E(3)\n",
    "print (E.x, e1.x, e1.y)\n",
    "print (E.x, e2.x, e1.y)"
   ]
  },
  {
   "cell_type": "code",
   "execution_count": 9,
   "id": "65eadd95-d1d5-41d9-9b74-0e22c7946266",
   "metadata": {
    "tags": []
   },
   "outputs": [
    {
     "name": "stdout",
     "output_type": "stream",
     "text": [
      "1 2 5\n",
      "1 1 5\n"
     ]
    }
   ],
   "source": [
    "e1.x=2\n",
    "print (E.x, e1.x, e1.y)\n",
    "print (E.x, e2.x, e1.y)"
   ]
  },
  {
   "cell_type": "code",
   "execution_count": 10,
   "id": "3c6657c6-cb4e-4cec-a4f1-1416e3ac47f6",
   "metadata": {
    "tags": []
   },
   "outputs": [
    {
     "name": "stdout",
     "output_type": "stream",
     "text": [
      "2 2 5\n",
      "2 2 5\n"
     ]
    }
   ],
   "source": [
    "E.x=2\n",
    "print (E.x, e1.x, e1.y)\n",
    "print (E.x, e2.x, e1.y)"
   ]
  },
  {
   "cell_type": "markdown",
   "id": "9521e6f9-20f9-4175-9f29-8ea8fd018ddc",
   "metadata": {},
   "source": [
    "# Statické a třídní metody"
   ]
  },
  {
   "cell_type": "code",
   "execution_count": 11,
   "id": "e23b6338-5d80-4642-a130-30752a34973a",
   "metadata": {
    "tags": []
   },
   "outputs": [],
   "source": [
    "class F:\n",
    "    def method(self):\n",
    "        # klasicka metoda \n",
    "        print (self)\n",
    "        \n",
    "    @classmethod\n",
    "    def class_method(cls):\n",
    "        # metoda na třídě, za cls se dosadí daná třída\n",
    "        print (cls)\n",
    "        \n",
    "    @staticmethod\n",
    "    def static_method():\n",
    "        # statická metoda - jen se nachází v dané třídě, nemá žádné parametry, nelze zjistit třídu\n",
    "        # například pokud daná metoda logicky pasuje do dané třídy\n",
    "        print(\"static method\")"
   ]
  },
  {
   "cell_type": "code",
   "execution_count": 12,
   "id": "f670052c-6f90-442c-99f5-2795d124fa3c",
   "metadata": {
    "tags": []
   },
   "outputs": [
    {
     "name": "stdout",
     "output_type": "stream",
     "text": [
      "<__main__.F object at 0x063423A0>\n"
     ]
    }
   ],
   "source": [
    "f=F()\n",
    "f.method()"
   ]
  },
  {
   "cell_type": "code",
   "execution_count": 13,
   "id": "80182bb7-f1ae-4beb-8d55-d974914a2fc5",
   "metadata": {
    "tags": []
   },
   "outputs": [
    {
     "name": "stdout",
     "output_type": "stream",
     "text": [
      "<class '__main__.F'>\n",
      "<class '__main__.F'>\n"
     ]
    }
   ],
   "source": [
    "F.class_method()\n",
    "f.class_method()"
   ]
  },
  {
   "cell_type": "code",
   "execution_count": 14,
   "id": "4ab24fd4-21e2-4ba8-b5b1-9a90491edf05",
   "metadata": {
    "tags": []
   },
   "outputs": [
    {
     "name": "stdout",
     "output_type": "stream",
     "text": [
      "static method\n"
     ]
    }
   ],
   "source": [
    "F.static_method()"
   ]
  },
  {
   "cell_type": "markdown",
   "id": "1b26a51c-e04d-4867-a062-11407a5c7739",
   "metadata": {},
   "source": [
    "# Vytváření instancí\n",
    "\n",
    "* __new__ - metoda vytváří samotnou instanci\n",
    "* __init__ - inicializační metoda"
   ]
  },
  {
   "cell_type": "code",
   "execution_count": 15,
   "id": "fa559c0e-f115-48f3-b67f-1ea969354bdd",
   "metadata": {
    "tags": []
   },
   "outputs": [],
   "source": [
    "class G:\n",
    "    def __new__ (cls, x):\n",
    "        print ('G.__new__()')\n",
    "        return object.__new__(cls)\n",
    "    \n",
    "    def __init__(self, x):\n",
    "        print ('G.__init__()')\n",
    "        self.x = x"
   ]
  },
  {
   "cell_type": "code",
   "execution_count": 16,
   "id": "e38ef63f-3e2e-4a1e-aae1-f9193c87a7fd",
   "metadata": {
    "tags": []
   },
   "outputs": [
    {
     "name": "stdout",
     "output_type": "stream",
     "text": [
      "G.__new__()\n",
      "G.__init__()\n"
     ]
    }
   ],
   "source": [
    "g=G(1)"
   ]
  },
  {
   "cell_type": "markdown",
   "id": "2e38b681-7efa-415a-a8b6-408bfb18b102",
   "metadata": {
    "tags": []
   },
   "source": [
    "# Uložení v paměti\n",
    "* Proměnné instancí uložené v rámci slovníku\n",
    "* Velmi pohodlné z programátorského hlediska\n",
    "* Slovníky ale zabírají více paměti\n",
    "* Každý přístup k proměnné potřebuje vyhledávání v hash tabulce"
   ]
  },
  {
   "cell_type": "code",
   "execution_count": 17,
   "id": "5a14d94e-2b42-4fac-8dbe-e0087b9bd15f",
   "metadata": {
    "tags": []
   },
   "outputs": [
    {
     "data": {
      "text/plain": [
       "{'y': 5, 'x': 2}"
      ]
     },
     "execution_count": 17,
     "metadata": {},
     "output_type": "execute_result"
    }
   ],
   "source": [
    "e1.__dict__"
   ]
  },
  {
   "cell_type": "code",
   "execution_count": 18,
   "id": "7fb12ea4-4783-4589-9726-e373946f4e09",
   "metadata": {
    "tags": []
   },
   "outputs": [],
   "source": [
    "e1.z=\"abc\""
   ]
  },
  {
   "cell_type": "code",
   "execution_count": 19,
   "id": "533cec63-aa79-49dc-bf62-65be133360a6",
   "metadata": {
    "tags": []
   },
   "outputs": [
    {
     "data": {
      "text/plain": [
       "{'y': 5, 'x': 2, 'z': 'abc'}"
      ]
     },
     "execution_count": 19,
     "metadata": {},
     "output_type": "execute_result"
    }
   ],
   "source": [
    "e1.__dict__"
   ]
  },
  {
   "cell_type": "markdown",
   "id": "f58c3b42-8ef3-44f0-bf1c-ae1389fe8890",
   "metadata": {},
   "source": [
    "* Alternativní uložiště přes sloty.\n",
    "* Instance nemůže mít jiné atributy než jsou definované ve slots.\n",
    "* V paměti realizované v poli, přístup přes indexy\n",
    "* Objemově méně náročné\n",
    "* Ztrácíme dynamičnost"
   ]
  },
  {
   "cell_type": "code",
   "execution_count": 20,
   "id": "268bb9f0-f8b2-465a-8a9d-9fbce52764f3",
   "metadata": {
    "tags": []
   },
   "outputs": [],
   "source": [
    "class H:\n",
    "    __slots__ = ('x', 'y')\n",
    "    def __init__ (self, x, y):\n",
    "        self.x = x\n",
    "        self.y = y"
   ]
  },
  {
   "cell_type": "code",
   "execution_count": 21,
   "id": "fc61433b-6d80-4ddb-91e2-ecf17bbb1d23",
   "metadata": {
    "tags": []
   },
   "outputs": [],
   "source": [
    "h=H(1, 4)"
   ]
  },
  {
   "cell_type": "code",
   "execution_count": 22,
   "id": "dd0b4ba9-7c75-4480-97be-f7ce0e5ce4ac",
   "metadata": {
    "tags": []
   },
   "outputs": [
    {
     "ename": "AttributeError",
     "evalue": "'H' object has no attribute 'z'",
     "output_type": "error",
     "traceback": [
      "\u001b[1;31m---------------------------------------------------------------------------\u001b[0m",
      "\u001b[1;31mAttributeError\u001b[0m                            Traceback (most recent call last)",
      "Cell \u001b[1;32mIn[22], line 2\u001b[0m\n\u001b[0;32m      1\u001b[0m \u001b[38;5;66;03m# skončí chybou\u001b[39;00m\n\u001b[1;32m----> 2\u001b[0m \u001b[43mh\u001b[49m\u001b[38;5;241;43m.\u001b[39;49m\u001b[43mz\u001b[49m\u001b[38;5;241m=\u001b[39m\u001b[38;5;241m3\u001b[39m\n",
      "\u001b[1;31mAttributeError\u001b[0m: 'H' object has no attribute 'z'"
     ]
    }
   ],
   "source": [
    "# skončí chybou\n",
    "h.z=3"
   ]
  },
  {
   "cell_type": "markdown",
   "id": "2d4f1611-5fbe-4922-8c3d-252d7a3247bd",
   "metadata": {},
   "source": [
    "# Speciální metody\n",
    "* gettry, settry\n",
    "* finalizer"
   ]
  },
  {
   "cell_type": "code",
   "execution_count": 23,
   "id": "6af6c01a-1493-457a-96ef-4855add5c0a0",
   "metadata": {
    "tags": []
   },
   "outputs": [
    {
     "data": {
      "text/plain": [
       "1"
      ]
     },
     "execution_count": 23,
     "metadata": {},
     "output_type": "execute_result"
    }
   ],
   "source": [
    "class MyList(list):\n",
    "    def __setitem__ (self, index, value):\n",
    "        # setter\n",
    "        raise RuntimeError (\"list is protected\")\n",
    "        \n",
    "    def __def__():\n",
    "        # Vlastni finalizer, spouští se při uvolnění objektu přes garbage collector, např. potřeba uvolnit spojení do databáze\n",
    "        print (\"A\")\n",
    "                \n",
    "list = MyList([1,2,3])\n",
    "list[0]"
   ]
  },
  {
   "cell_type": "code",
   "execution_count": 24,
   "id": "c80a1c5c-997d-44b0-ab3f-ea7530dd6a76",
   "metadata": {
    "tags": []
   },
   "outputs": [
    {
     "ename": "RuntimeError",
     "evalue": "list is protected",
     "output_type": "error",
     "traceback": [
      "\u001b[1;31m---------------------------------------------------------------------------\u001b[0m",
      "\u001b[1;31mRuntimeError\u001b[0m                              Traceback (most recent call last)",
      "Cell \u001b[1;32mIn[24], line 1\u001b[0m\n\u001b[1;32m----> 1\u001b[0m \u001b[38;5;28;43mlist\u001b[39;49m\u001b[43m[\u001b[49m\u001b[38;5;241;43m0\u001b[39;49m\u001b[43m]\u001b[49m\u001b[38;5;241m=\u001b[39m\u001b[38;5;241m3\u001b[39m\n",
      "Cell \u001b[1;32mIn[23], line 4\u001b[0m, in \u001b[0;36mMyList.__setitem__\u001b[1;34m(self, index, value)\u001b[0m\n\u001b[0;32m      2\u001b[0m \u001b[38;5;28;01mdef\u001b[39;00m\u001b[38;5;250m \u001b[39m\u001b[38;5;21m__setitem__\u001b[39m (\u001b[38;5;28mself\u001b[39m, index, value):\n\u001b[0;32m      3\u001b[0m     \u001b[38;5;66;03m# setter\u001b[39;00m\n\u001b[1;32m----> 4\u001b[0m     \u001b[38;5;28;01mraise\u001b[39;00m \u001b[38;5;167;01mRuntimeError\u001b[39;00m (\u001b[38;5;124m\"\u001b[39m\u001b[38;5;124mlist is protected\u001b[39m\u001b[38;5;124m\"\u001b[39m)\n",
      "\u001b[1;31mRuntimeError\u001b[0m: list is protected"
     ]
    }
   ],
   "source": [
    "list[0]=3"
   ]
  },
  {
   "cell_type": "code",
   "execution_count": null,
   "id": "4da7de8b-8352-4f50-8b7a-82ef08f32028",
   "metadata": {},
   "outputs": [],
   "source": []
  }
 ],
 "metadata": {
  "kernelspec": {
   "display_name": "Python 3",
   "language": "python",
   "name": "python3"
  },
  "language_info": {
   "codemirror_mode": {
    "name": "ipython",
    "version": 3
   },
   "file_extension": ".py",
   "mimetype": "text/x-python",
   "name": "python",
   "nbconvert_exporter": "python",
   "pygments_lexer": "ipython3",
   "version": "3.9.0"
  }
 },
 "nbformat": 4,
 "nbformat_minor": 5
}
